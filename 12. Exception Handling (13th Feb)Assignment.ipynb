{
 "cells": [
  {
   "cell_type": "markdown",
   "id": "63bb5405-ea18-4ef8-b504-edb1a8c4d5de",
   "metadata": {},
   "source": [
    "# Q1. Explain why we have to use the Exception class while creating a Custom Exception.\n",
    "## Note: Here Exception class refers to the base class for all the exceptions."
   ]
  },
  {
   "cell_type": "markdown",
   "id": "1651b2b6-454f-463f-bc9c-39da7fef5cd0",
   "metadata": {},
   "source": [
    "## Ans :"
   ]
  },
  {
   "cell_type": "markdown",
   "id": "07fc2f3f-d94c-455f-abef-3ecfb73de428",
   "metadata": {},
   "source": [
    "In Python, when we create a custom exception, we usually derive it from the base class Exception or one of its subclasses.\n",
    "\n",
    "The Exception class provides a set of common attributes and methods that all exceptions should have. By inheriting from this class, we get all the functionality of the base class, and we can also add custom attributes and methods to the derived class as per our requirements.\n",
    "\n",
    "For example, we may want to create an exception that is specific to our application or module. By creating a custom exception class, we can give it a specific name and customize its behavior to suit our needs.\n",
    "\n",
    "Using the Exception class as the base class also ensures that our custom exception follows the same conventions as other built-in exceptions in Python. This means that our custom exception can be caught and handled by the same exception handling code that works with other exceptions in Python.\n",
    "\n",
    "Overall, using the Exception class as the base class for custom exceptions ensures consistency and standardization in the way exceptions are handled in Python, making our code more organized, robust, and maintainable.\n",
    "\n",
    "\n",
    "\n",
    "\n",
    "\n"
   ]
  },
  {
   "cell_type": "markdown",
   "id": "72fce784-4327-4ce7-bc1d-1bc176b9df98",
   "metadata": {},
   "source": [
    "# Q2. Write a python program to print Python Exception Hierarchy."
   ]
  },
  {
   "cell_type": "markdown",
   "id": "5cf8dcad-13a0-47d9-87a2-fbdd555b7241",
   "metadata": {},
   "source": [
    "## Ans :"
   ]
  },
  {
   "cell_type": "markdown",
   "id": "7000bb1f-0b53-4f1a-9cb0-d04d3431be16",
   "metadata": {},
   "source": [
    "We can use the help() function in Python to get information about any module, class, or function. To print the Python Exception Hierarchy, we can use help(Exception) to get information about the base Exception class, which will also include information about its subclasses and their hierarchy.\n",
    "\n",
    "Here's the Python program to print the Exception Hierarchy:"
   ]
  },
  {
   "cell_type": "code",
   "execution_count": 1,
   "id": "d5c1fbdd-1906-46bf-a2a6-9859fa54d6ec",
   "metadata": {},
   "outputs": [
    {
     "name": "stdout",
     "output_type": "stream",
     "text": [
      "Help on class Exception in module builtins:\n",
      "\n",
      "class Exception(BaseException)\n",
      " |  Common base class for all non-exit exceptions.\n",
      " |  \n",
      " |  Method resolution order:\n",
      " |      Exception\n",
      " |      BaseException\n",
      " |      object\n",
      " |  \n",
      " |  Built-in subclasses:\n",
      " |      ArithmeticError\n",
      " |      AssertionError\n",
      " |      AttributeError\n",
      " |      BufferError\n",
      " |      ... and 15 other subclasses\n",
      " |  \n",
      " |  Methods defined here:\n",
      " |  \n",
      " |  __init__(self, /, *args, **kwargs)\n",
      " |      Initialize self.  See help(type(self)) for accurate signature.\n",
      " |  \n",
      " |  ----------------------------------------------------------------------\n",
      " |  Static methods defined here:\n",
      " |  \n",
      " |  __new__(*args, **kwargs) from builtins.type\n",
      " |      Create and return a new object.  See help(type) for accurate signature.\n",
      " |  \n",
      " |  ----------------------------------------------------------------------\n",
      " |  Methods inherited from BaseException:\n",
      " |  \n",
      " |  __delattr__(self, name, /)\n",
      " |      Implement delattr(self, name).\n",
      " |  \n",
      " |  __getattribute__(self, name, /)\n",
      " |      Return getattr(self, name).\n",
      " |  \n",
      " |  __reduce__(...)\n",
      " |      Helper for pickle.\n",
      " |  \n",
      " |  __repr__(self, /)\n",
      " |      Return repr(self).\n",
      " |  \n",
      " |  __setattr__(self, name, value, /)\n",
      " |      Implement setattr(self, name, value).\n",
      " |  \n",
      " |  __setstate__(...)\n",
      " |  \n",
      " |  __str__(self, /)\n",
      " |      Return str(self).\n",
      " |  \n",
      " |  with_traceback(...)\n",
      " |      Exception.with_traceback(tb) --\n",
      " |      set self.__traceback__ to tb and return self.\n",
      " |  \n",
      " |  ----------------------------------------------------------------------\n",
      " |  Data descriptors inherited from BaseException:\n",
      " |  \n",
      " |  __cause__\n",
      " |      exception cause\n",
      " |  \n",
      " |  __context__\n",
      " |      exception context\n",
      " |  \n",
      " |  __dict__\n",
      " |  \n",
      " |  __suppress_context__\n",
      " |  \n",
      " |  __traceback__\n",
      " |  \n",
      " |  args\n",
      "\n"
     ]
    }
   ],
   "source": [
    "# print Python Exception Hierarchy\n",
    "help(Exception)\n"
   ]
  },
  {
   "cell_type": "markdown",
   "id": "379b882e-f408-4cf9-98db-ba0e4b543e12",
   "metadata": {},
   "source": [
    "# Q3. What errors are defined in the ArithmeticError class? Explain any two with an example."
   ]
  },
  {
   "cell_type": "markdown",
   "id": "125bf7ac-2dbf-4ccf-90f9-6d8810663bde",
   "metadata": {},
   "source": [
    "## Ans : "
   ]
  },
  {
   "cell_type": "markdown",
   "id": "f660f44c-0d7b-47fa-a2c4-2f3758ae6865",
   "metadata": {},
   "source": [
    "The ArithmeticError class is a built-in subclass of the Exception class in Python. It represents errors that occur during arithmetic operations such as division by zero or invalid operations on numeric types.\n",
    "\n",
    "Some of the errors that are defined in the ArithmeticError class are:\n",
    "\n",
    "1.ZeroDivisionError: This error occurs when we try to divide a number by zero. For example:"
   ]
  },
  {
   "cell_type": "code",
   "execution_count": 2,
   "id": "7987abd1-dcd7-4efd-8f8d-83bb45132c6e",
   "metadata": {},
   "outputs": [
    {
     "ename": "ZeroDivisionError",
     "evalue": "division by zero",
     "output_type": "error",
     "traceback": [
      "\u001b[0;31m---------------------------------------------------------------------------\u001b[0m",
      "\u001b[0;31mZeroDivisionError\u001b[0m                         Traceback (most recent call last)",
      "Cell \u001b[0;32mIn[2], line 3\u001b[0m\n\u001b[1;32m      1\u001b[0m a \u001b[38;5;241m=\u001b[39m \u001b[38;5;241m10\u001b[39m\n\u001b[1;32m      2\u001b[0m b \u001b[38;5;241m=\u001b[39m \u001b[38;5;241m0\u001b[39m\n\u001b[0;32m----> 3\u001b[0m c \u001b[38;5;241m=\u001b[39m \u001b[43ma\u001b[49m\u001b[38;5;241;43m/\u001b[39;49m\u001b[43mb\u001b[49m   \u001b[38;5;66;03m# ZeroDivisionError: division by zero\u001b[39;00m\n",
      "\u001b[0;31mZeroDivisionError\u001b[0m: division by zero"
     ]
    }
   ],
   "source": [
    "a = 10\n",
    "b = 0\n",
    "c = a/b   # ZeroDivisionError: division by zero\n"
   ]
  },
  {
   "cell_type": "markdown",
   "id": "a188ca70-aad2-43cd-baeb-3ad311636b1d",
   "metadata": {},
   "source": [
    "2.OverflowError: This error occurs when a calculation exceeds the maximum limit of a numeric type. For example:"
   ]
  },
  {
   "cell_type": "code",
   "execution_count": 3,
   "id": "353ec7d8-1c51-49a0-9116-b6279e389164",
   "metadata": {},
   "outputs": [
    {
     "name": "stdout",
     "output_type": "stream",
     "text": [
      "Simple program for showing overflow error\n",
      "\n",
      "\n",
      "The exponential value is\n"
     ]
    },
    {
     "ename": "OverflowError",
     "evalue": "math range error",
     "output_type": "error",
     "traceback": [
      "\u001b[0;31m---------------------------------------------------------------------------\u001b[0m",
      "\u001b[0;31mOverflowError\u001b[0m                             Traceback (most recent call last)",
      "Cell \u001b[0;32mIn[3], line 5\u001b[0m\n\u001b[1;32m      3\u001b[0m \u001b[38;5;28;01mimport\u001b[39;00m \u001b[38;5;21;01mmath\u001b[39;00m\n\u001b[1;32m      4\u001b[0m \u001b[38;5;28mprint\u001b[39m(\u001b[38;5;124m\"\u001b[39m\u001b[38;5;124mThe exponential value is\u001b[39m\u001b[38;5;124m\"\u001b[39m)\n\u001b[0;32m----> 5\u001b[0m \u001b[38;5;28mprint\u001b[39m(\u001b[43mmath\u001b[49m\u001b[38;5;241;43m.\u001b[39;49m\u001b[43mexp\u001b[49m\u001b[43m(\u001b[49m\u001b[38;5;241;43m1000\u001b[39;49m\u001b[43m)\u001b[49m)\n",
      "\u001b[0;31mOverflowError\u001b[0m: math range error"
     ]
    }
   ],
   "source": [
    "print(\"Simple program for showing overflow error\")\n",
    "print(\"\\n\")\n",
    "import math\n",
    "print(\"The exponential value is\")\n",
    "print(math.exp(1000))"
   ]
  },
  {
   "cell_type": "markdown",
   "id": "f33fd8c0-ebdc-4ea6-83b9-95697fbc9cc4",
   "metadata": {},
   "source": [
    "# Q4. Why LookupError class is used? Explain with an example KeyError and IndexError. "
   ]
  },
  {
   "cell_type": "markdown",
   "id": "da32c3dc-21d4-445d-a2c4-433f7751cc2a",
   "metadata": {},
   "source": [
    "## Ans : "
   ]
  },
  {
   "cell_type": "markdown",
   "id": "c56ec46f-b6ad-48db-8d1a-6e06ba893d5e",
   "metadata": {},
   "source": [
    "The LookupError class is a built-in exception class in Python that serves as a base class for all errors related to lookup operations. A lookup operation refers to an attempt to access an element in a container such as a list or dictionary.\n",
    "\n",
    "The LookupError class is used when we want to catch any errors related to lookup operations, without being specific about the type of error. It is a parent class of several other exception classes, including IndexError, KeyError, and ValueError.\n",
    "\n",
    "Here are two examples that demonstrate the use of KeyError and IndexError, which are both subclasses of LookupError:\n",
    "\n",
    "Example :\n",
    "1: KeyError: In this example, we try to access a non-existent key in a dictionary, which raises a KeyError:"
   ]
  },
  {
   "cell_type": "code",
   "execution_count": 4,
   "id": "95a24ecd-f593-420b-a361-146c2c47ee75",
   "metadata": {},
   "outputs": [
    {
     "ename": "KeyError",
     "evalue": "'d'",
     "output_type": "error",
     "traceback": [
      "\u001b[0;31m---------------------------------------------------------------------------\u001b[0m",
      "\u001b[0;31mKeyError\u001b[0m                                  Traceback (most recent call last)",
      "Cell \u001b[0;32mIn[4], line 2\u001b[0m\n\u001b[1;32m      1\u001b[0m dict1 \u001b[38;5;241m=\u001b[39m {\u001b[38;5;124m'\u001b[39m\u001b[38;5;124ma\u001b[39m\u001b[38;5;124m'\u001b[39m: \u001b[38;5;241m1\u001b[39m, \u001b[38;5;124m'\u001b[39m\u001b[38;5;124mb\u001b[39m\u001b[38;5;124m'\u001b[39m: \u001b[38;5;241m2\u001b[39m, \u001b[38;5;124m'\u001b[39m\u001b[38;5;124mc\u001b[39m\u001b[38;5;124m'\u001b[39m: \u001b[38;5;241m3\u001b[39m}\n\u001b[0;32m----> 2\u001b[0m value \u001b[38;5;241m=\u001b[39m \u001b[43mdict1\u001b[49m\u001b[43m[\u001b[49m\u001b[38;5;124;43m'\u001b[39;49m\u001b[38;5;124;43md\u001b[39;49m\u001b[38;5;124;43m'\u001b[39;49m\u001b[43m]\u001b[49m  \u001b[38;5;66;03m# this will raise a KeyError\u001b[39;00m\n",
      "\u001b[0;31mKeyError\u001b[0m: 'd'"
     ]
    }
   ],
   "source": [
    "dict1 = {'a': 1, 'b': 2, 'c': 3}\n",
    "value = dict1['d']  # this will raise a KeyError\n"
   ]
  },
  {
   "cell_type": "markdown",
   "id": "1ba34b20-6b2a-41d5-b58c-a79e75560577",
   "metadata": {},
   "source": [
    "Here, we have a dictionary dict1 containing three key-value pairs. We are then trying to access a key d that does not exist in the dictionary. This raises a KeyError.\n",
    "\n",
    "Example: \n",
    "2: IndexError: In this example, we try to access an element in a list using an index that is out of range, which raises an IndexError:"
   ]
  },
  {
   "cell_type": "code",
   "execution_count": 5,
   "id": "a4ebcef9-cdc8-460f-a242-69f1d7f13f79",
   "metadata": {},
   "outputs": [
    {
     "ename": "IndexError",
     "evalue": "list index out of range",
     "output_type": "error",
     "traceback": [
      "\u001b[0;31m---------------------------------------------------------------------------\u001b[0m",
      "\u001b[0;31mIndexError\u001b[0m                                Traceback (most recent call last)",
      "Cell \u001b[0;32mIn[5], line 2\u001b[0m\n\u001b[1;32m      1\u001b[0m list1 \u001b[38;5;241m=\u001b[39m [\u001b[38;5;241m1\u001b[39m, \u001b[38;5;241m2\u001b[39m, \u001b[38;5;241m3\u001b[39m, \u001b[38;5;241m4\u001b[39m, \u001b[38;5;241m5\u001b[39m]\n\u001b[0;32m----> 2\u001b[0m value \u001b[38;5;241m=\u001b[39m \u001b[43mlist1\u001b[49m\u001b[43m[\u001b[49m\u001b[38;5;241;43m10\u001b[39;49m\u001b[43m]\u001b[49m  \u001b[38;5;66;03m# this will raise an IndexError\u001b[39;00m\n",
      "\u001b[0;31mIndexError\u001b[0m: list index out of range"
     ]
    }
   ],
   "source": [
    "list1 = [1, 2, 3, 4, 5]\n",
    "value = list1[10]  # this will raise an IndexError\n"
   ]
  },
  {
   "cell_type": "markdown",
   "id": "8ec68611-4979-4f88-b4a7-3e5dc38a66be",
   "metadata": {},
   "source": [
    "Here, we have a list list1 containing five elements. We are then trying to access the element at index 10, which is beyond the range of valid indices for this list. This raises an IndexError."
   ]
  },
  {
   "cell_type": "markdown",
   "id": "51b81f08-5e2b-46cb-aff7-46c65d55026a",
   "metadata": {},
   "source": [
    "# Q5. Explain ImportError. What is ModuleNotFoundError?"
   ]
  },
  {
   "cell_type": "markdown",
   "id": "5ddc32fc-2a04-4f01-a859-e22d03c1d4c6",
   "metadata": {},
   "source": [
    "## Ans : "
   ]
  },
  {
   "cell_type": "markdown",
   "id": "eadba9fc-9313-4f03-ae36-364a312892ac",
   "metadata": {},
   "source": [
    "ImportError:it is a built-in Python exception that is raised when a module, which is being imported, is not found or when an error occurs while trying to import a module. This exception is often raised when there is an issue with the module search path or when the module is not installed correctly.\n",
    "\n",
    "Here is an example that demonstrates the use of ImportError:"
   ]
  },
  {
   "cell_type": "code",
   "execution_count": 9,
   "id": "75837626-0e62-4e9c-abb2-7831475d3ed3",
   "metadata": {},
   "outputs": [
    {
     "name": "stdout",
     "output_type": "stream",
     "text": [
      "No module named 'some_module'\n"
     ]
    }
   ],
   "source": [
    "try:\n",
    "    import some_module  # this module does not exist\n",
    "except ImportError as e:\n",
    "    print(e)\n"
   ]
  },
  {
   "cell_type": "markdown",
   "id": "1a11dedd-5c95-4b6c-a989-a407056a9d95",
   "metadata": {},
   "source": [
    "ModuleNotFoundError:It is a subclass of ImportError that was introduced in Python 3.6. It is raised when a module is not found during the import process, just like ImportError. The difference is that ModuleNotFoundError provides a more informative error message that includes the name of the missing module.\n",
    "\n",
    "Here is an example that demonstrates the use of ModuleNotFoundError:"
   ]
  },
  {
   "cell_type": "code",
   "execution_count": 1,
   "id": "f9ddb601-e3c6-4463-a8f5-45c2aa8ce009",
   "metadata": {},
   "outputs": [
    {
     "name": "stdout",
     "output_type": "stream",
     "text": [
      "Module not found: some_module\n"
     ]
    }
   ],
   "source": [
    "try:\n",
    "    import some_module  # this module does not exist\n",
    "except ModuleNotFoundError as e:\n",
    "    print(f\"Module not found: {e.name}\")\n"
   ]
  },
  {
   "cell_type": "markdown",
   "id": "92651bff-b5f1-439b-b467-1eb1e3702773",
   "metadata": {},
   "source": [
    "# Q6. List down some best practices for exception handling in python."
   ]
  },
  {
   "cell_type": "markdown",
   "id": "599ce86e-33e8-4c2c-9f64-5d09b4c43a5d",
   "metadata": {},
   "source": [
    "## Ans : "
   ]
  },
  {
   "cell_type": "markdown",
   "id": "4b7a6bed-5684-4e64-b29f-e64c90f92f2f",
   "metadata": {},
   "source": [
    "Here are some best practices for exception handling in Python:\n",
    "\n",
    "1.Use try-except blocks: Always wrap your code in try-except blocks to catch and handle exceptions.\n",
    "\n",
    "2.Be specific about the exceptions you catch: Catch only those exceptions that you expect to occur and that you know how to handle. Avoid catching all exceptions using a generic except block.\n",
    "\n",
    "3.Handle exceptions at the appropriate level: Catch exceptions at the appropriate level of your program, depending on where you can handle them most effectively. For example, catch exceptions at the function level rather than the module level, if possible.\n",
    "\n",
    "4.Provide informative error messages: When an exception occurs, provide informative error messages that explain what went wrong and how to fix it. This can help users understand the problem and resolve it quickly.\n",
    "\n",
    "5.Log exceptions: Logging exceptions can help you diagnose and fix issues more easily. Use a logging framework to log exceptions, along with other relevant information such as the function name and line number.\n",
    "\n",
    "6.Use finally blocks for cleanup: Use a finally block to ensure that any cleanup operations, such as closing a file or releasing a resource, are performed even if an exception occurs.\n",
    "\n",
    "7.Avoid catching all exceptions: Avoid catching all exceptions using a generic except block, as it can mask errors and make it difficult to diagnose issues. Instead, catch only those exceptions that you expect to occur and that you know how to handle.\n",
    "\n",
    "8.Raise exceptions when appropriate: Use raise statements to raise exceptions when appropriate. This can help you indicate errors or unexpected conditions in your code.\n",
    "\n",
    "9.Use custom exception classes: Define custom exception classes to provide more specific and informative error messages.\n",
    "\n",
    "10.Test your exception handling: Test your code thoroughly to ensure that your exception handling works as expected and that it provides informative error messages."
   ]
  }
 ],
 "metadata": {
  "kernelspec": {
   "display_name": "Python 3 (ipykernel)",
   "language": "python",
   "name": "python3"
  },
  "language_info": {
   "codemirror_mode": {
    "name": "ipython",
    "version": 3
   },
   "file_extension": ".py",
   "mimetype": "text/x-python",
   "name": "python",
   "nbconvert_exporter": "python",
   "pygments_lexer": "ipython3",
   "version": "3.10.8"
  }
 },
 "nbformat": 4,
 "nbformat_minor": 5
}
